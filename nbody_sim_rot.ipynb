{
 "cells": [
  {
   "cell_type": "code",
   "execution_count": 1,
   "id": "b36d3b22",
   "metadata": {},
   "outputs": [],
   "source": [
    "import sys\n",
    "import pandas as pd\n",
    "import matplotlib.pyplot as plt\n",
    "import numpy as np\n",
    "from matplotlib import cm\n",
    "import matplotlib as mp\n",
    "# import gaia_tools as gt\n",
    "import scipy\n",
    "from scipy.ndimage import gaussian_filter\n",
    "import astropy.units as u\n",
    "from astropy.coordinates import SkyCoord\n",
    "import math\n",
    "\n",
    "sys.path.append('C:/gaiaenv/New Py/My_thesis/Modules')\n",
    "from mock_wake import generate_mock_wake\n",
    "from rotation_funcs import rotate, angle_finder\n"
   ]
  },
  {
   "cell_type": "code",
   "execution_count": null,
   "id": "af43b714",
   "metadata": {},
   "outputs": [],
   "source": []
  },
  {
   "cell_type": "code",
   "execution_count": null,
   "id": "7754f882",
   "metadata": {},
   "outputs": [],
   "source": []
  },
  {
   "cell_type": "code",
   "execution_count": null,
   "id": "2832e350",
   "metadata": {},
   "outputs": [],
   "source": []
  }
 ],
 "metadata": {
  "kernelspec": {
   "display_name": ".venv",
   "language": "python",
   "name": "python3"
  },
  "language_info": {
   "codemirror_mode": {
    "name": "ipython",
    "version": 3
   },
   "file_extension": ".py",
   "mimetype": "text/x-python",
   "name": "python",
   "nbconvert_exporter": "python",
   "pygments_lexer": "ipython3",
   "version": "3.13.1"
  }
 },
 "nbformat": 4,
 "nbformat_minor": 5
}
