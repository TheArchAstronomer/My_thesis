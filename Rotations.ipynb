{
 "cells": [
  {
   "cell_type": "code",
   "execution_count": 54,
   "id": "081f283c",
   "metadata": {},
   "outputs": [],
   "source": [
    "import pandas as pd\n",
    "import matplotlib.pyplot as plt\n",
    "import numpy as np\n",
    "from matplotlib import cm\n",
    "import matplotlib as mp\n",
    "# import gaia_tools as gt\n",
    "import scipy\n",
    "from scipy.ndimage import gaussian_filter\n",
    "import astropy.units as u\n",
    "from astropy.coordinates import SkyCoord"
   ]
  },
  {
   "cell_type": "code",
   "execution_count": 55,
   "id": "9f7cffe8",
   "metadata": {},
   "outputs": [],
   "source": [
    "# reading in simulation data about the LMC cdm wake\n",
    "stars = np.load('C:/Users/dnurm/Desktop/Uni_files/Thesis/.venv/Data/star_particles_pos_5e8.npy') # change to local path depending on whether you're using home PC / laptop\n",
    "starsdf = pd.DataFrame(stars)\n",
    "starsdf = starsdf.rename(columns={0:\"x\", 1:\"y\", 2:\"z\"})\n",
    "\n",
    "# to remove outliers in the z axis with np.where, I first need to convert the column to a numeric type with pd.to_numeric.\n",
    "# z axis is chosen specifically because, if the data is plotted in the x-z axis, the relevant data is clearly bound between -20 and 20 kpc.\n",
    "# This \n",
    "\n",
    "#starsdf[\"z\"] = pd.to_numeric(starsdf[\"z\"], errors=\"coerce\")\n",
    "#starsdf['z'] = np.where((starsdf['z'] > 20) | (starsdf['z'] < -20), np.nan, starsdf['z'])\n",
    "#starsdf = starsdf.dropna(subset=[\"z\"])\n",
    "\n",
    "x_s = starsdf['x']\n",
    "y_s = starsdf['y']\n",
    "z_s = starsdf['z']\n",
    "\n",
    "bins = (35, 35)"
   ]
  },
  {
   "cell_type": "code",
   "execution_count": 56,
   "id": "97069eda",
   "metadata": {},
   "outputs": [],
   "source": [
    "LMC_sim = [(x_s[0], 0, 0), (x_s[67000000], 0, 0), (x_s[67108863], 0, 0), (x_s[68000000], 0, 0), (x_s[134217727], 0, 0)]\n",
    "\n",
    "pts = np.array(LMC_sim, dtype=float)\n",
    "LMC_X, LMC_Y, LMC_Z = pts[:,0], pts[:,1], pts[:,2]\n",
    "LMC_sim = np.array(LMC_sim)\n"
   ]
  },
  {
   "cell_type": "code",
   "execution_count": 57,
   "id": "c5d6b78d",
   "metadata": {},
   "outputs": [],
   "source": [
    "df_test = pd.DataFrame({(0, -45, -45), \n",
    "                   (0, 200, -200),\n",
    "                   (0, 500, 140)}, \n",
    "#},\n",
    "                  columns=['x', 'y', 'z'])\n",
    "\n",
    "x_test = df_test['x']\n",
    "y_test = df_test['y']\n",
    "z_test = df_test['z']"
   ]
  },
  {
   "cell_type": "code",
   "execution_count": 58,
   "id": "54b2298d",
   "metadata": {},
   "outputs": [],
   "source": [
    "#trying out translation. \n",
    "LMC_cloud = [(0, 300, 0), (0, 300, 0), (0, 300, 0), (0, 300, 0), (0, 300, 0)]\n",
    "\n",
    "LMC_sim1 = np.array(LMC_sim) + np.array(LMC_cloud)"
   ]
  },
  {
   "cell_type": "code",
   "execution_count": 59,
   "id": "d163396c",
   "metadata": {},
   "outputs": [],
   "source": [
    "# Mock wake generator\n",
    "def generate_mock_wake(\n",
    "    \n",
    "    N_total=300_000,\n",
    "    box_half_size=300.0,                 # kpc; box is [-L, L]^3\n",
    "    f_overdense=0.25,                    # fraction of particles in wake component\n",
    "    mu=(-30.0, 5.0, 0.0),                # kpc; wake center (x0, y0, z0)\n",
    "    sigma_major=70.0,                    # kpc; wake length-scale along major axis\n",
    "    sigma_minor=50.0,                    # kpc; width in the orthogonal in-plane axis\n",
    "    sigma_z=8.0,                         # kpc; thickness\n",
    "    theta_deg=0.0,                       # rotation of wake in XY plane (deg)\n",
    "    rng_seed=7\n",
    "):\n",
    "    \"\"\"\n",
    "    Return a structured ndarray with fields: x,y,z,component (1=wake, 0=bg).\n",
    "    \"\"\"\n",
    "    rng = np.random.default_rng(rng_seed)\n",
    "    N_over = int(N_total * f_overdense)\n",
    "    N_bg   = N_total - N_over\n",
    "    mu = np.asarray(mu, dtype=float)\n",
    "\n",
    "    # Rotation in the XY plane\n",
    "    theta = np.deg2rad(theta_deg)\n",
    "    c, s = np.cos(theta), np.sin(theta)\n",
    "    R = np.array([[c, -s],\n",
    "                  [s,  c]])\n",
    "\n",
    "    # Covariance in XY for the anisotropic Gaussian\n",
    "    Lambda_xy = np.diag([sigma_major**2, sigma_minor**2])\n",
    "    Sigma_xy  = R @ Lambda_xy @ R.T\n",
    "\n",
    "    # Wake samples\n",
    "    xy_over = rng.multivariate_normal(mean=mu[:2], cov=Sigma_xy, size=N_over)\n",
    "    z_over  = rng.normal(loc=mu[2], scale=sigma_z, size=N_over)\n",
    "\n",
    "    # Clip to keep inside box\n",
    "    xy_over[:, 0] = np.clip(xy_over[:, 0], -box_half_size, box_half_size)\n",
    "    xy_over[:, 1] = np.clip(xy_over[:, 1], -box_half_size, box_half_size)\n",
    "    z_over        = np.clip(z_over,        -box_half_size, box_half_size)\n",
    "\n",
    "    # Uniform background\n",
    "    x_bg = rng.uniform(-box_half_size, box_half_size, size=N_bg)\n",
    "    y_bg = rng.uniform(-box_half_size, box_half_size, size=N_bg)\n",
    "    z_bg = rng.uniform(-box_half_size, box_half_size, size=N_bg)\n",
    "\n",
    "    # Concatenate positions\n",
    "    x = np.concatenate([xy_over[:, 0], x_bg])\n",
    "    y = np.concatenate([xy_over[:, 1], y_bg])\n",
    "    z = np.concatenate([z_over,        z_bg])\n",
    "\n",
    "    # Pack catalog\n",
    "    comp = np.concatenate([np.ones(N_over, dtype=np.int8),\n",
    "                           np.zeros(N_bg, dtype=np.int8)])  # 1=wake, 0=bg\n",
    "    \n",
    "\n",
    "    cat = np.zeros(N_total, dtype=[('x','f4'),('y','f4'),('z','f4'),('component','i1')])\n",
    "    \n",
    "    cat['x'], cat['y'], cat['z']   = x, y, z\n",
    "    cat['component'] = comp\n",
    "    return cat\n"
   ]
  },
  {
   "cell_type": "code",
   "execution_count": 60,
   "id": "40640edc",
   "metadata": {},
   "outputs": [
    {
     "data": {
      "text/plain": [
       "array([( -29.913889,   19.937277,    1.949072 , 1),\n",
       "       ( -49.18965 ,  -39.52959 ,   -2.6321273, 1),\n",
       "       ( -61.826954,  -44.58233 ,   -4.129546 , 1), ...,\n",
       "       ( -67.989845,  105.101776, -265.415    , 0),\n",
       "       (-194.56839 , -122.20985 , -250.83775  , 0),\n",
       "       ( 215.33652 ,  -90.41174 , -102.19617  , 0)],\n",
       "      dtype=[('x', '<f4'), ('y', '<f4'), ('z', '<f4'), ('component', 'i1')])"
      ]
     },
     "execution_count": 60,
     "metadata": {},
     "output_type": "execute_result"
    }
   ],
   "source": [
    "result = generate_mock_wake()\n",
    "result"
   ]
  },
  {
   "cell_type": "code",
   "execution_count": 61,
   "id": "e3564a6d",
   "metadata": {},
   "outputs": [],
   "source": [
    "df = pd.DataFrame(result)\n",
    "df\n",
    "coords = df[['x', 'y', 'z']].values"
   ]
  },
  {
   "cell_type": "code",
   "execution_count": 62,
   "id": "fb4fe1de",
   "metadata": {},
   "outputs": [],
   "source": [
    "# 3D rotation matrixes\n",
    "def rx(theta):\n",
    "    c, s = np.cos(theta), np.sin(theta)\n",
    "    return np.array([[1, 0, 0],\n",
    "                     [0, c,-s],\n",
    "                     [0, s, c]])\n",
    "def ry(theta):\n",
    "    c, s = np.cos(theta), np.sin(theta)\n",
    "    return np.array([[ c, 0, s],\n",
    "                     [ 0, 1, 0],\n",
    "                     [-s, 0, c]])\n",
    "def rz(theta):\n",
    "    c, s = np.cos(theta), np.sin(theta)\n",
    "    return np.array([[c,-s, 0],\n",
    "                     [s, c, 0],\n",
    "                     [0, 0, 1]])\n",
    "\n",
    "def rotate(rot_mat, vec):\n",
    "    return rot_mat @ vec\n"
   ]
  },
  {
   "cell_type": "code",
   "execution_count": 63,
   "id": "9b45b4d0",
   "metadata": {},
   "outputs": [
    {
     "data": {
      "text/plain": [
       "array([ 1.8369702e-14, -3.0000000e+02,  0.0000000e+00])"
      ]
     },
     "execution_count": 63,
     "metadata": {},
     "output_type": "execute_result"
    }
   ],
   "source": [
    "# testing whether rotation matrices work\n",
    "tiben = rotate([300, 0, 0], rz((np.pi/2)))  \n",
    "tiben "
   ]
  },
  {
   "cell_type": "code",
   "execution_count": 64,
   "id": "71c02fc2",
   "metadata": {},
   "outputs": [
    {
     "data": {
      "text/plain": [
       "array([ 1.8369702e-14,  0.0000000e+00, -3.0000000e+02])"
      ]
     },
     "execution_count": 64,
     "metadata": {},
     "output_type": "execute_result"
    }
   ],
   "source": [
    "tiben2 = rotate(ry(np.pi/2), [300, 0, 0])\n",
    "tiben2"
   ]
  },
  {
   "cell_type": "markdown",
   "id": "46980862",
   "metadata": {},
   "source": [
    "Exercise: test rotation function with 2 points around z axis to check how it works with more than 1 points. Check how python rotations more than one point basically. \n",
    "\n",
    "Test how numpy works while applying a scalar mult. to a set of vectors?\n",
    "\n",
    "Look into: https://numpy.org/doc/stable/user/basics.broadcasting.html"
   ]
  },
  {
   "cell_type": "code",
   "execution_count": 65,
   "id": "0d5b6610",
   "metadata": {},
   "outputs": [],
   "source": [
    "# Current task is to try and rotate the entire set of points around a certain axis."
   ]
  },
  {
   "cell_type": "code",
   "execution_count": 66,
   "id": "cea43985",
   "metadata": {},
   "outputs": [],
   "source": [
    "#test array \n",
    "x = np.linspace(0, 1, 10)\n",
    "y = np.zeros(10)\n",
    "z = np.zeros(10)\n",
    "\n",
    "test_array = np.array([x, y, z])\n",
    "\n",
    "x_2 = np.linspace(0, 1, 2)\n",
    "y_2 = np.zeros(2)\n",
    "z_2 = np.zeros(2)\n",
    "test_array_2 = np.array([x_2, y_2, z_2])\n",
    "\n"
   ]
  },
  {
   "cell_type": "code",
   "execution_count": 77,
   "id": "c7cb95ab",
   "metadata": {},
   "outputs": [],
   "source": [
    "rot_1 = rotate(rz(np.pi/2), test_array)\n",
    "rot_3 = rotate(rz(np.pi/4), test_array)\n"
   ]
  },
  {
   "cell_type": "code",
   "execution_count": 68,
   "id": "638c7d28",
   "metadata": {},
   "outputs": [],
   "source": [
    "rot_2 = rotate(rz(np.pi/2), test_array_2)"
   ]
  },
  {
   "cell_type": "code",
   "execution_count": 69,
   "id": "01a919fd",
   "metadata": {},
   "outputs": [
    {
     "data": {
      "text/plain": [
       "array([[0.000000e+00, 6.123234e-17],\n",
       "       [0.000000e+00, 1.000000e+00],\n",
       "       [0.000000e+00, 0.000000e+00]])"
      ]
     },
     "execution_count": 69,
     "metadata": {},
     "output_type": "execute_result"
    }
   ],
   "source": [
    "rot_2"
   ]
  },
  {
   "cell_type": "code",
   "execution_count": 80,
   "id": "cef422db",
   "metadata": {},
   "outputs": [
    {
     "data": {
      "image/png": "[encoded data removed]",
      "text/plain": [
       "<Figure size 1200x1200 with 4 Axes>"
      ]
     },
     "metadata": {},
     "output_type": "display_data"
    }
   ],
   "source": [
    "fig, axs = plt.subplots(2, 2, figsize=(12, 12))\n",
    "fig.suptitle('Rotation test')\n",
    "\n",
    "axs[0, 0].scatter(test_array[0], test_array[1])\n",
    "\n",
    "\n",
    "axs[0, 1].scatter(rot_1[0], rot_1[1])\n",
    "axs[0, 1].set_xlim(-1, 1) \n",
    "\n",
    "axs[1, 0].scatter(rot_3[0], rot_3[1])\n",
    "axs[1, 0].set_xlim(-1, 1) \n",
    "\n",
    "for ax in axs.flat:\n",
    "    ax.set(xlabel='x', ylabel='y')"
   ]
  },
  {
   "cell_type": "code",
   "execution_count": null,
   "id": "f1d28e52",
   "metadata": {},
   "outputs": [],
   "source": []
  }
 ],
 "metadata": {
  "kernelspec": {
   "display_name": ".venv",
   "language": "python",
   "name": "python3"
  },
  "language_info": {
   "codemirror_mode": {
    "name": "ipython",
    "version": 3
   },
   "file_extension": ".py",
   "mimetype": "text/x-python",
   "name": "python",
   "nbconvert_exporter": "python",
   "pygments_lexer": "ipython3",
   "version": "3.13.7"
  }
 },
 "nbformat": 4,
 "nbformat_minor": 5
}
