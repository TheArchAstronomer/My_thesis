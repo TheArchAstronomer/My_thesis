{
 "cells": [
  {
   "cell_type": "code",
   "execution_count": 6,
   "id": "34e5e29b",
   "metadata": {},
   "outputs": [],
   "source": [
    "import pandas as pd\n",
    "import matplotlib.pyplot as plt\n",
    "import numpy as np\n",
    "from matplotlib import cm\n",
    "import matplotlib as mp\n",
    "# import gaia_tools as gt\n",
    "import scipy\n",
    "from scipy.ndimage import gaussian_filter\n",
    "import astropy.units as u\n",
    "from astropy.coordinates import SkyCoord\n",
    "import math\n",
    "import h5py"
   ]
  },
  {
   "cell_type": "code",
   "execution_count": 9,
   "id": "10c8cc5e",
   "metadata": {},
   "outputs": [],
   "source": [
    "file = 'C:/Data/Praktika_data/dm_sim.00001.0'\n",
    "\n",
    "def load_snap_file(path, part_type='PartType1', is_print = False):\n",
    "\n",
    "    snap_file = h5py.File(path, 'r')\n",
    "    part_data = snap_file[part_type]\n",
    "\n",
    "    if(is_print):\n",
    "        print(f'Loading snapshot: {path.split(\"/\")[-1]}')\n",
    "        print(f'Selected species: {part_type}')\n",
    "        print(f'Snap file keys: {snap_file.keys()}')\n",
    "        print(f'Part type keys: {part_data.keys()}')\n",
    "\n",
    "    return part_data"
   ]
  },
  {
   "cell_type": "code",
   "execution_count": 10,
   "id": "e8d9da73",
   "metadata": {},
   "outputs": [
    {
     "name": "stdout",
     "output_type": "stream",
     "text": [
      "Loading snapshot: dm_sim.00001.0\n",
      "Selected species: PartType1\n",
      "Snap file keys: <KeysViewHDF5 ['Cosmology', 'Header', 'Parameters', 'PartType1', 'PartType4', 'Units']>\n",
      "Part type keys: <KeysViewHDF5 ['Coordinates', 'Density', 'GroupID', 'Masses', 'ParticleIDs', 'Potential', 'Softening', 'Velocities']>\n"
     ]
    },
    {
     "data": {
      "text/plain": [
       "<HDF5 group \"/PartType1\" (8 members)>"
      ]
     },
     "execution_count": 10,
     "metadata": {},
     "output_type": "execute_result"
    }
   ],
   "source": [
    "load_snap_file(file, part_type='PartType1', is_print = True)"
   ]
  }
 ],
 "metadata": {
  "kernelspec": {
   "display_name": ".venv",
   "language": "python",
   "name": "python3"
  },
  "language_info": {
   "codemirror_mode": {
    "name": "ipython",
    "version": 3
   },
   "file_extension": ".py",
   "mimetype": "text/x-python",
   "name": "python",
   "nbconvert_exporter": "python",
   "pygments_lexer": "ipython3",
   "version": "3.13.1"
  }
 },
 "nbformat": 4,
 "nbformat_minor": 5
}
